{
  "nbformat": 4,
  "nbformat_minor": 0,
  "metadata": {
    "colab": {
      "name": "spam mail  prediction project.ipynb",
      "provenance": [],
      "collapsed_sections": []
    },
    "kernelspec": {
      "name": "python3",
      "display_name": "Python 3"
    },
    "language_info": {
      "name": "python"
    }
  },
  "cells": [
    {
      "cell_type": "code",
      "metadata": {
        "id": "rHSht4eKbXcG"
      },
      "source": [
        "#Importing Libraries\n",
        "import numpy as np\n",
        "import pandas as pd\n",
        "from sklearn.model_selection import train_test_split\n",
        "from sklearn.feature_extraction.text import TfidfVectorizer\n",
        "from sklearn.svm import LinearSVC\n",
        "from sklearn.metrics import accuracy_score"
      ],
      "execution_count": 1,
      "outputs": []
    },
    {
      "cell_type": "code",
      "metadata": {
        "id": "26uxtachcZK-"
      },
      "source": [
        "#Data Pre-processing part\n",
        "\n",
        "#loading the dataset\n",
        "raw_mail_data = pd.read_csv(r'spam.csv',encoding='ISO-8859-1')\n",
        "\n",
        "#Replacing  null values with null stream\n",
        "mail_data = raw_mail_data.where((pd.notnull(raw_mail_data)), '')"
      ],
      "execution_count": 4,
      "outputs": []
    },
    {
      "cell_type": "code",
      "metadata": {
        "id": "BGfau2UpepiP",
        "colab": {
          "base_uri": "https://localhost:8080/"
        },
        "outputId": "9764e4ed-ad84-4dc4-a30f-0e3a7e151c2d"
      },
      "source": [
        "mail_data.shape"
      ],
      "execution_count": 5,
      "outputs": [
        {
          "output_type": "execute_result",
          "data": {
            "text/plain": [
              "(5572, 5)"
            ]
          },
          "metadata": {},
          "execution_count": 5
        }
      ]
    },
    {
      "cell_type": "code",
      "metadata": {
        "id": "PXv4Kt3IerFg",
        "colab": {
          "base_uri": "https://localhost:8080/",
          "height": 203
        },
        "outputId": "121688e5-2666-42a6-ed17-8049b79e9027"
      },
      "source": [
        "#Let's see the sample dataset\n",
        "mail_data.head()"
      ],
      "execution_count": 6,
      "outputs": [
        {
          "output_type": "execute_result",
          "data": {
            "text/html": [
              "<div>\n",
              "<style scoped>\n",
              "    .dataframe tbody tr th:only-of-type {\n",
              "        vertical-align: middle;\n",
              "    }\n",
              "\n",
              "    .dataframe tbody tr th {\n",
              "        vertical-align: top;\n",
              "    }\n",
              "\n",
              "    .dataframe thead th {\n",
              "        text-align: right;\n",
              "    }\n",
              "</style>\n",
              "<table border=\"1\" class=\"dataframe\">\n",
              "  <thead>\n",
              "    <tr style=\"text-align: right;\">\n",
              "      <th></th>\n",
              "      <th>v1</th>\n",
              "      <th>v2</th>\n",
              "      <th>Unnamed: 2</th>\n",
              "      <th>Unnamed: 3</th>\n",
              "      <th>Unnamed: 4</th>\n",
              "    </tr>\n",
              "  </thead>\n",
              "  <tbody>\n",
              "    <tr>\n",
              "      <th>0</th>\n",
              "      <td>ham</td>\n",
              "      <td>Go until jurong point, crazy.. Available only ...</td>\n",
              "      <td></td>\n",
              "      <td></td>\n",
              "      <td></td>\n",
              "    </tr>\n",
              "    <tr>\n",
              "      <th>1</th>\n",
              "      <td>ham</td>\n",
              "      <td>Ok lar... Joking wif u oni...</td>\n",
              "      <td></td>\n",
              "      <td></td>\n",
              "      <td></td>\n",
              "    </tr>\n",
              "    <tr>\n",
              "      <th>2</th>\n",
              "      <td>spam</td>\n",
              "      <td>Free entry in 2 a wkly comp to win FA Cup fina...</td>\n",
              "      <td></td>\n",
              "      <td></td>\n",
              "      <td></td>\n",
              "    </tr>\n",
              "    <tr>\n",
              "      <th>3</th>\n",
              "      <td>ham</td>\n",
              "      <td>U dun say so early hor... U c already then say...</td>\n",
              "      <td></td>\n",
              "      <td></td>\n",
              "      <td></td>\n",
              "    </tr>\n",
              "    <tr>\n",
              "      <th>4</th>\n",
              "      <td>ham</td>\n",
              "      <td>Nah I don't think he goes to usf, he lives aro...</td>\n",
              "      <td></td>\n",
              "      <td></td>\n",
              "      <td></td>\n",
              "    </tr>\n",
              "  </tbody>\n",
              "</table>\n",
              "</div>"
            ],
            "text/plain": [
              "     v1  ... Unnamed: 4\n",
              "0   ham  ...           \n",
              "1   ham  ...           \n",
              "2  spam  ...           \n",
              "3   ham  ...           \n",
              "4   ham  ...           \n",
              "\n",
              "[5 rows x 5 columns]"
            ]
          },
          "metadata": {},
          "execution_count": 6
        }
      ]
    },
    {
      "cell_type": "code",
      "metadata": {
        "id": "uwHEbl6_ex8i"
      },
      "source": [
        "#label spam mail as 0 and non-spam mail as 1\n",
        "#labelling the data\n",
        "mail_data.loc[mail_data['v1'] == 'spam','v1',] = 0\n",
        "mail_data.loc[mail_data['v1'] == 'ham', 'v1',] = 1"
      ],
      "execution_count": 8,
      "outputs": []
    },
    {
      "cell_type": "code",
      "metadata": {
        "id": "VzO7riUae5ke"
      },
      "source": [
        "#Separating the data as text and labels\n",
        "# X represent text; Y represent Labels\n",
        "X = mail_data['v2']\n",
        "Y = mail_data['v1']"
      ],
      "execution_count": 10,
      "outputs": []
    },
    {
      "cell_type": "code",
      "metadata": {
        "id": "pb8KJFX8fDBG",
        "colab": {
          "base_uri": "https://localhost:8080/"
        },
        "outputId": "989eabca-4ec9-4f57-d4e4-549cc631fa68"
      },
      "source": [
        "print(X)\n",
        "\n",
        "#adding separator between X and Y\n",
        "print(\"*********************************\")\n",
        "\n",
        "print(Y)"
      ],
      "execution_count": 11,
      "outputs": [
        {
          "output_type": "stream",
          "name": "stdout",
          "text": [
            "0       Go until jurong point, crazy.. Available only ...\n",
            "1                           Ok lar... Joking wif u oni...\n",
            "2       Free entry in 2 a wkly comp to win FA Cup fina...\n",
            "3       U dun say so early hor... U c already then say...\n",
            "4       Nah I don't think he goes to usf, he lives aro...\n",
            "                              ...                        \n",
            "5567    This is the 2nd time we have tried 2 contact u...\n",
            "5568                Will Ì_ b going to esplanade fr home?\n",
            "5569    Pity, * was in mood for that. So...any other s...\n",
            "5570    The guy did some bitching but I acted like i'd...\n",
            "5571                           Rofl. Its true to its name\n",
            "Name: v2, Length: 5572, dtype: object\n",
            "*********************************\n",
            "0       1\n",
            "1       1\n",
            "2       0\n",
            "3       1\n",
            "4       1\n",
            "       ..\n",
            "5567    0\n",
            "5568    1\n",
            "5569    1\n",
            "5570    1\n",
            "5571    1\n",
            "Name: v1, Length: 5572, dtype: object\n"
          ]
        }
      ]
    },
    {
      "cell_type": "code",
      "metadata": {
        "id": "2gJ3yeJDfLGm"
      },
      "source": [
        "#splitting the dataset into training and testing data\n",
        "X_train, X_test, Y_train, Y_test = train_test_split(X, Y, train_size=0.8, test_size=0.2, random_state=3)\n",
        "#train_size is use to specify amount of  training data we need. here, in this case we have taken 80% data as training data\n",
        "#test_size is use to specify amount of  testing data we need. here, in this case we have taken 20% data as testing data"
      ],
      "execution_count": 17,
      "outputs": []
    },
    {
      "cell_type": "code",
      "metadata": {
        "id": "JdxvNm-IfSdT"
      },
      "source": [
        "#Feature extraction  part\n",
        "\n",
        "#transform the text data to feature vectors that can be used as input to SVM model using TfidfVectorizer\n",
        "#converting the text to lower case  letters\n",
        "feature_extraction = TfidfVectorizer(min_df=1, stop_words='english', lowercase='true')\n",
        "\n",
        "X_train_features = feature_extraction.fit_transform(X_train)\n",
        "X_test_features = feature_extraction.transform(X_test)\n",
        "\n",
        "#Converting Y_train and Y_test values as integers\n",
        "Y_train = Y_train.astype('int')\n",
        "Y_test = Y_test.astype('int')"
      ],
      "execution_count": 19,
      "outputs": []
    },
    {
      "cell_type": "code",
      "metadata": {
        "id": "PMQ9LTp2fbcV",
        "colab": {
          "base_uri": "https://localhost:8080/"
        },
        "outputId": "23ca398f-3a46-42db-abbb-e7f25320ccc9"
      },
      "source": [
        "#Training  the model using SVM which is used for classification\n",
        "model = LinearSVC()\n",
        "model.fit(X_train_features, Y_train)\n"
      ],
      "execution_count": 20,
      "outputs": [
        {
          "output_type": "execute_result",
          "data": {
            "text/plain": [
              "LinearSVC(C=1.0, class_weight=None, dual=True, fit_intercept=True,\n",
              "          intercept_scaling=1, loss='squared_hinge', max_iter=1000,\n",
              "          multi_class='ovr', penalty='l2', random_state=None, tol=0.0001,\n",
              "          verbose=0)"
            ]
          },
          "metadata": {},
          "execution_count": 20
        }
      ]
    },
    {
      "cell_type": "code",
      "metadata": {
        "id": "hIoTB5yQfjmM"
      },
      "source": [
        "#Evaluating our model on training data\n",
        "prediction_on_training_data = model.predict(X_train_features)\n",
        "accuracy_on_training_data = accuracy_score(Y_train, prediction_on_training_data)"
      ],
      "execution_count": 22,
      "outputs": []
    },
    {
      "cell_type": "code",
      "metadata": {
        "id": "f2g838eVfrZm",
        "colab": {
          "base_uri": "https://localhost:8080/"
        },
        "outputId": "2e6ea878-10b3-4840-ba03-9c84a45df847"
      },
      "source": [
        "print(\"Accuracy on training data is \",accuracy_on_training_data)"
      ],
      "execution_count": 23,
      "outputs": [
        {
          "output_type": "stream",
          "name": "stdout",
          "text": [
            "Accuracy on training data is  0.9995512676688355\n"
          ]
        }
      ]
    },
    {
      "cell_type": "code",
      "metadata": {
        "id": "6rVGattOfwk2",
        "colab": {
          "base_uri": "https://localhost:8080/"
        },
        "outputId": "008caae4-c052-4270-d362-5b2d130c4b03"
      },
      "source": [
        "#Evaluating our model on testing data\n",
        "prediction_on_test_data = model.predict(X_test_features)\n",
        "accuracy_on_test_data  = accuracy_score(Y_test, prediction_on_test_data)\n",
        "\n",
        "print(\"Accuracy on testing data is \",accuracy_on_test_data)"
      ],
      "execution_count": 24,
      "outputs": [
        {
          "output_type": "stream",
          "name": "stdout",
          "text": [
            "Accuracy on testing data is  0.9856502242152466\n"
          ]
        }
      ]
    },
    {
      "cell_type": "code",
      "metadata": {
        "id": "1MsG-oS8f4ZV",
        "colab": {
          "base_uri": "https://localhost:8080/"
        },
        "outputId": "6e6a9dc4-7739-4ca8-8c31-a27a66eff03b"
      },
      "source": [
        "#Making Prediction on new mail\n",
        "input_mail = [\"FreeMsg Hey there darling it's been 3 week's now and no word back! I'd like some fun you up for it still? Tb ok! XxX std chgs to send, å£1.50 to rcv\"]\n",
        "\n",
        "#Converting text to feature vectors\n",
        "input_mail_features = feature_extraction.transform(input_mail)\n",
        "\n",
        "prediction = model.predict(input_mail_features)\n",
        "print(prediction) #this function will print a list which can have either 0 or 1\n",
        "\n",
        "if (prediction[0]) == 0 : \n",
        "    print('This is an spam mail.')\n",
        "else :\n",
        "    print(\"This is not a spam mail.\")"
      ],
      "execution_count": 26,
      "outputs": [
        {
          "output_type": "stream",
          "name": "stdout",
          "text": [
            "[0]\n",
            "This is an spam mail.\n"
          ]
        }
      ]
    }
  ]
}